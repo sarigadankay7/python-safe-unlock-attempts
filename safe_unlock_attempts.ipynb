{
  "nbformat": 4,
  "nbformat_minor": 0,
  "metadata": {
    "colab": {
      "provenance": [],
      "authorship_tag": "ABX9TyPCzavp8ce9UVDhSDVolFDG",
      "include_colab_link": true
    },
    "kernelspec": {
      "name": "python3",
      "display_name": "Python 3"
    },
    "language_info": {
      "name": "python"
    }
  },
  "cells": [
    {
      "cell_type": "markdown",
      "metadata": {
        "id": "view-in-github",
        "colab_type": "text"
      },
      "source": [
        "<a href=\"https://colab.research.google.com/github/sarigadankay7/python-safe-unlock-attempts/blob/main/safe_unlock_attempts.ipynb\" target=\"_parent\"><img src=\"https://colab.research.google.com/assets/colab-badge.svg\" alt=\"Open In Colab\"/></a>"
      ]
    },
    {
      "cell_type": "code",
      "execution_count": null,
      "metadata": {
        "id": "8j40Gpxk773g"
      },
      "outputs": [],
      "source": [
        "code=\"8520\"\n",
        "for i in range(5,0,-1):\n",
        "  code=input()\n",
        "  if code==\"8520\":\n",
        "    print(\"safe opened\")\n",
        "    break\n",
        "  else:\n",
        "    if i-1>0:\n",
        "      print(\"wrong code\")\n",
        "    else:\n",
        "      print(\"safe permenantly locked\")"
      ]
    }
  ]
}